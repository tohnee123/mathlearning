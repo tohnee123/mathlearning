{
  "cells": [
    {
      "metadata": {
        "collapsed": true
      },
      "cell_type": "markdown",
      "source": "\n\n# 微分学（数列的极限）\n\n微分学和随后的积分学主要内容来自汤家凤老师和 MIT 的微积分视频笔记内容，我主要通过整理这些视频的内容，加深自己的记忆和理解。\n\n## 中学内容\n\n### 定义\n\n1. 邻域： $U(a,\\delta) \\triangleq \\left\\{x | \\left|x-a\\right|\\lt\\delta\\right\\} \\triangleq \\left(a-\\delta, a+\\delta\\right)$，其中 $U(a,\\delta)$ 称为 $a$ 的 $\\delta$ 邻域；\n2. 去心领域：$\\dot U (a,\\delta)\\triangleq\\left\\{x | 0\\lt|x-a|\\lt\\delta\\right\\}$，其中 $\\ddot U(a,\\delta)$ 称为 $a$ 的 $\\delta$ 去心邻域；\n\n### 初等特性\n\n1. 奇偶性：\n\n    * $y = f(x)\\quad(x \\in D)$，关于 $y$ 轴对称，称 $f(x)$ 为偶函数；<br />\n    * $y = f(x)\\quad(x \\in D)$，关于原点对称，称 $f(x)$ 为奇函数；\n\n  以上定义与以下的数学表达式等价：<br /><br />\n$\\quad\\begin{cases}\nf(-x) = -f(x) \\Rightarrow y=f(x)\\ \\mbox{为奇函数} \\\\\nf(-x) = f(x) \\Rightarrow y=f(x)\\ \\mbox{为偶函数}\n\\end{cases}$ <br /><br />\n\n2. 有界性：对于函数 $y=f(x),\\ (x\\in D)$ <br >\n    * 若 $\\exists M \\gt 0, \\ \\forall x \\in D,$ 有 $|f(x)| \\le M \\Longrightarrow$ 称 $f(x)$ 在 D 上有界 $\\Longleftrightarrow f(x)$ 在 D 上有上界和下界 <br /><br />\n\n3. 增减性：对于函数 $y=f(x),\\ (x\\in D)$ <br >\n    * 若，$\\forall x_1, x_2 \\in D,$ 且 $x_1 \\gt x_2$，有 $f(x_1) \\gt f(x_2) \\Longrightarrow y=f(x)$ 在 $x \\in D$ 上严格递增；\n    * 若，$\\forall x_1, x_2 \\in D,$ 且 $x_1 \\gt x_2$，有 $f(x_1) \\lt f(x_2) \\Longrightarrow y=f(x)$ 在 $x \\in D$ 上严格递减\n\n\n### 特殊函数\n\n1. 符号函数\n\n    * $sgn(x) \\triangleq \\begin{cases}-1,\\quad x\\lt 0 \\\\ 0,\\quad\\ \\  x = 0\\\\1,\\quad\\ \\ x \\gt 0\\end{cases}$ <br /><br />\n    * $|x| = x\\cdot sgn(x)$  <br /><br />\n\n2. 取整函数\n\n    * $[x] \\triangleq \\begin{cases}k, \\qquad\\ \\ x = k \\\\k-1,\\quad k-1 \\lt x \\lt k\\quad\\end{cases}(k \\in Z)$ <br /><br />\n    \n3. Dirichlet 函数\n    \n    * $D(x)\\triangleq 1, \\begin{cases}1, \\quad x \\in Q \\\\ 0, \\quad x \\in R\\backslash Q\\end{cases}$\n\n\n### 数列的极限\n\n1. 定义：\n\n    * $\\{a_n\\}$ 是一个数列，A 为一个常数，若当 $\\forall\\ \\varepsilon\\gt0, \\exists\\ N > 0,$ 当 n > N 时，$|a_n - A| \\lt\\epsilon$ 称 A 为数列 $\\ \\{a_n\\}$ 的极限。记为： <br /><br />\n    $$\\lim\\limits_{n\\to+\\infty}\\{a_n\\}=A$$\n"
    },
    {
      "metadata": {
        "trusted": true
      },
      "cell_type": "code",
      "source": "",
      "execution_count": null,
      "outputs": []
    },
    {
      "metadata": {
        "trusted": true
      },
      "cell_type": "code",
      "source": "",
      "execution_count": null,
      "outputs": []
    },
    {
      "metadata": {
        "trusted": true
      },
      "cell_type": "markdown",
      "source": "例题：\n\n1. 求 $y=\\ln\\ (x+\\sqrt{x^2+1})$ 的奇偶性和反函数；\n\n\n* $\\quad\\because x \\in(-\\infty,+\\infty) \\Rightarrow f(-x)=\\ln\\ (-x+\\sqrt{x^2+1}) \\Rightarrow f(-x) = \\ln \\dfrac{1}{x+\\sqrt{(x^2+1)}} \\Rightarrow -\\ln\\ (x+\\sqrt{(x^2+1)}) \\Rightarrow -f(x)$\n\n$\\quad\\quad\\ \\therefore y=\\ln\\ (x+\\sqrt{x^2+1}) \\ \\mbox{是奇函数}$ <br /><br />\n\n* $\\quad\\because e^y = x+\\sqrt{x^2+1} \\Rightarrow \\begin{cases}x + \\sqrt{x^2+1}=e^y \\\\ -x+\\sqrt{x^2+1}=e^{-y}\\end{cases} \\Rightarrow \\mbox{反函数为：} x=\\dfrac{e^y-e^{-y}}{2}$ <br /><br />\n\n\n2. 证明 $\\lim\\limits_{n\\to+\\infty}\\dfrac{2}{2n+1}=\\dfrac{1}{2}$\n\n    证：$\\ \\because\\forall\\ \\epsilon \\gt 0$ <br /><br />\n    $\\qquad\\left|\\dfrac{n}{2n+1}-\\dfrac{1}{2}\\right| = \\dfrac{1}{2(2n+1)}\\ \\lt \\epsilon\\Rightarrow n\\gt\\dfrac{1}{2}\\left(\\dfrac{1}{2\\epsilon}-1\\right)\\Rightarrow N\\ =\\ \\left[\\dfrac{1}{2}\\left(\\dfrac{1}{2\\epsilon}-1\\right)\\right]$ <br />\n    $\\qquad$当 $n > N$时， $\\left|\\dfrac{n}{2n+1}-\\dfrac{1}{2}\\right|\\lt\\epsilon$ <br />\n    $\\qquad\\therefore \\lim\\limits_{n\\to+\\infty}\\dfrac{2}{2n+1}=\\dfrac{1}{2}$ <br /><br />\n  \n3. "
    },
    {
      "metadata": {
        "trusted": true
      },
      "cell_type": "code",
      "source": "",
      "execution_count": null,
      "outputs": []
    },
    {
      "metadata": {
        "trusted": true
      },
      "cell_type": "code",
      "source": "",
      "execution_count": null,
      "outputs": []
    }
  ],
  "metadata": {
    "kernelspec": {
      "name": "python36",
      "display_name": "Python 3.6",
      "language": "python"
    },
    "language_info": {
      "mimetype": "text/x-python",
      "nbconvert_exporter": "python",
      "name": "python",
      "pygments_lexer": "ipython3",
      "version": "3.6.6",
      "file_extension": ".py",
      "codemirror_mode": {
        "version": 3,
        "name": "ipython"
      }
    }
  },
  "nbformat": 4,
  "nbformat_minor": 2
}